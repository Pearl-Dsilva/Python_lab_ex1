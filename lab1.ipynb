{
 "cells": [
  {
   "cell_type": "markdown",
   "metadata": {},
   "source": [
    "  1. Write a paragraph about introducing you and your selected domain (include Full Name, domain name, register number, year …….).\n",
    "Write a python program to count the frequency of any specific word (your domain name) in the paragraph.\n"
   ]
  },
  {
   "cell_type": "code",
   "execution_count": 3,
   "metadata": {},
   "outputs": [
    {
     "name": "stdout",
     "output_type": "stream",
     "text": [
      "the word Zoo is repeated for:\n",
      "2\n",
      "{'present,': 1, 'of': 1, 'viwed.': 1, 'there': 1, 'assume': 1, 'the': 5, 'and': 2, 'visitor': 1, 'is': 2, 'to': 1, 'can': 1, 'cost': 1, 'zoo': 1, 'zoos.': 1, 'let': 1, '200.00': 1, 'day.': 1, 'ticket': 1, '1000': 1, 'added': 1, 'are': 1, 'management': 1, 'animals': 1, 'details': 1, 'data': 1, 'about': 1, 'staff': 1, 'animals,': 1, 'related': 1, 'us': 1, 'be': 1, 'per': 1, 'numbers': 1, '200': 1, 'visitors': 1, 'managing': 1}\n"
     ]
    }
   ],
   "source": [
    "def freq(str):\n",
    "    string_list = str.lower().split()\n",
    "    d={}\n",
    "    #print(string_list)\n",
    "    string_set = set(string_list)\n",
    "    #print(string_set)\n",
    "    '''for words in string_set:\n",
    "        print(words,\":\",string_list.count(words))\n",
    "    '''\n",
    "    for words in string_set:\n",
    "        keys = words\n",
    "        values = string_list.count(words)\n",
    "        d[keys] = values\n",
    "    print(d)\n",
    "\n",
    "\n",
    "paragraph = \"Zoo management is managing the data related to the zoos. The numbers of animals present, the staff and visitor details can be added and viwed. Let us assume there are 1000 animals, about 200 visitors per day. The ticket cost is 200.00\"\n",
    "print(\"the word Zoo is repeated for:\")\n",
    "print(paragraph.lower().count('zoo'))\n",
    "freq(paragraph)\n",
    "\n",
    "\n"
   ]
  },
  {
   "cell_type": "markdown",
   "metadata": {},
   "source": [
    "Write a python program to display all the datatypes of selected specific elements in the paragraph. (For example:– name - string, reg.no - int, marks - float, etc.)"
   ]
  },
  {
   "cell_type": "code",
   "execution_count": 24,
   "metadata": {},
   "outputs": [
    {
     "name": "stdout",
     "output_type": "stream",
     "text": [
      "It is a num\n",
      "It is a num\n"
     ]
    }
   ],
   "source": [
    "paragraph = \"Zoo management is managing the data related to the zoos. The numbers of animals present, the staff and visitor details can be added and viwed. Let us assume there are 1000 animals, about 200 visitors per day. The ticket cost is 200.00\"\n",
    "element=paragraph.split(\" \")\n",
    "data = '2'\n",
    "for values in element:\n",
    "    for chars in values:\n",
    "        if (chars.isalpha() and chars==data):\n",
    "            print(\"It is a string\")\n",
    "            break\n",
    "        elif(chars.isdigit() and chars==data):\n",
    "            print(\"It is a num\")\n",
    "        \n"
   ]
  },
  {
   "cell_type": "markdown",
   "metadata": {},
   "source": [
    "\tWrite a python program to count the number of alphabets, numeric and other special symbols in the paragraph."
   ]
  },
  {
   "cell_type": "code",
   "execution_count": 17,
   "metadata": {},
   "outputs": [
    {
     "name": "stdout",
     "output_type": "stream",
     "text": [
      "Alphabets: 175\n",
      "Numeric: 12\n",
      "Special characters: 47\n"
     ]
    }
   ],
   "source": [
    "paragraph = \"Zoo management is managing the data related to the zoos. The numbers of animals present, the staff and visitor details can be added and viwed. Let us assume there are 1000 animals, about 200 visitors per day. The ticket cost is 200.00\"\n",
    "para_lower=paragraph.lower()\n",
    "alphabets = 0\n",
    "numeric = 0\n",
    "spchar = 0\n",
    "for char in para_lower:\n",
    "    if char.isalpha():\n",
    "        alphabets += 1\n",
    "    elif char.isdigit():\n",
    "        numeric += 1\n",
    "    else:\n",
    "        spchar += 1\n",
    "print(\"Alphabets:\",alphabets)\n",
    "print(\"Numeric:\",numeric)\n",
    "print(\"Special characters:\",spchar)"
   ]
  },
  {
   "cell_type": "markdown",
   "metadata": {},
   "source": [
    "Create a Set with elements that consists of various data types (int, float, string, Boolean, etc. from your domain) and perform the functions pop(), clear(), discard() and del. Write the insights as docstring."
   ]
  },
  {
   "cell_type": "code",
   "execution_count": 46,
   "metadata": {},
   "outputs": [
    {
     "name": "stdout",
     "output_type": "stream",
     "text": [
      "After pop\n",
      "{1, 90, 'Zoo'}\n",
      "after clear\n",
      "set()\n",
      "after discard 190.00\n",
      "{1, 2, 'Animal'}\n"
     ]
    }
   ],
   "source": [
    "set1 = {\"Zoo\", 1, 90, False}\n",
    "set2 = {\"Animal\", 2, 1, 190.00}\n",
    "'''pop() is used to return the last element in the set'''\n",
    "set1.pop()\n",
    "print(\"After pop\")\n",
    "print(set1)\n",
    "\n",
    "'''clear() is used to remove the elements in the set. here we are removing the content of set1'''\n",
    "set1.clear()\n",
    "print(\"after clear\")\n",
    "print(set1)\n",
    "\n",
    "'''discard(vallue) discards the value mentioned in the arg of the function'''\n",
    "set2.discard(190.00)\n",
    "print(\"after discard 190.00\")\n",
    "print(set2)\n",
    "\n"
   ]
  },
  {
   "cell_type": "markdown",
   "metadata": {},
   "source": [
    "Update the Set with minimum 5 string attributes of your domain and arrange the Set in descending order."
   ]
  },
  {
   "cell_type": "code",
   "execution_count": 25,
   "metadata": {},
   "outputs": [
    {
     "name": "stdout",
     "output_type": "stream",
     "text": [
      "['visitors', 'staff', 'faq', 'Zoo']\n"
     ]
    }
   ],
   "source": [
    "paragraph_set = {\"Zoo\",\"visitors\",\"staff\",\"faq\"}\n",
    "sorted_set = sorted(paragraph_set, reverse=True)\n",
    "print(sorted_set)"
   ]
  },
  {
   "cell_type": "markdown",
   "metadata": {},
   "source": [
    "Create a Tuple and Execute the packing and unpacking operations of tuples using the attributes of your domain."
   ]
  },
  {
   "cell_type": "code",
   "execution_count": 29,
   "metadata": {},
   "outputs": [
    {
     "name": "stdout",
     "output_type": "stream",
     "text": [
      "Zoo\n",
      "visitors\n",
      "staff\n",
      "faq\n"
     ]
    }
   ],
   "source": [
    "zoo = (\"Zoo\",\"visitors\",\"staff\",\"faq\")\n",
    "(Bannergatta_Zoo, Nada, Yella, best_time_to_visit)=zoo\n",
    "print(Bannergatta_Zoo)\n",
    "print(Nada)\n",
    "print(Yella)\n",
    "print(best_time_to_visit)\n",
    "\n"
   ]
  },
  {
   "cell_type": "markdown",
   "metadata": {},
   "source": [
    "Enter your domain name as characters and count any number of characters and print the count (for example – (‘p’,’r’,’o’,’g’,’r’,’a’,’m’) count of ‘r’ = 2)"
   ]
  },
  {
   "cell_type": "code",
   "execution_count": 34,
   "metadata": {},
   "outputs": [
    {
     "name": "stdout",
     "output_type": "stream",
     "text": [
      "The letter o appears 2 times.\n"
     ]
    }
   ],
   "source": [
    "domlist=['z','o','o','m','a','n','a','g','e','m','e','n','t' ]\n",
    "letter='o'\n",
    "count_letter=0\n",
    "for i in range(0,len(domlist)):\n",
    "    if domlist[i].lower()==letter.lower():\n",
    "        count_letter+=1\n",
    "print(\"The letter {} appears {} times.\" .format(letter,count_letter))"
   ]
  },
  {
   "cell_type": "markdown",
   "metadata": {},
   "source": [
    "Enter your domain name, execute all the slicing possibilities and also negative indexing."
   ]
  },
  {
   "cell_type": "code",
   "execution_count": 35,
   "metadata": {},
   "outputs": [
    {
     "name": "stdout",
     "output_type": "stream",
     "text": [
      "Original Domain Name: Zoo Management\n",
      "\n",
      "Slicing:\n",
      "1. Slicing from index 3 to 9:  Manage\n",
      "2. Slicing from index 0 to 7: Zoo Mana\n",
      "3. Slicing from index 5 to the end: anagement\n",
      "4. Slicing from index 2 to 11 with step 2: oMngm\n",
      "5. Slicing from the end -8 to the end -3: nageme\n",
      "7. Last character: t\n",
      "Second to last character: n\n"
     ]
    }
   ],
   "source": [
    "domain_name=\"Zoo Management\"\n",
    "print(\"Original Domain Name:\", domain_name)\n",
    "print(\"\\nSlicing:\")\n",
    "print(\"1. Slicing from index 3 to 9:\", domain_name[3:10])\n",
    "print(\"2. Slicing from index 0 to 7:\", domain_name[:8])\n",
    "print(\"3. Slicing from index 5 to the end:\", domain_name[5:])\n",
    "print(\"4. Slicing from index 2 to 11 with step 2:\", domain_name[2:12:2])\n",
    "print(\"5. Slicing from the end -8 to the end -3:\", domain_name[-8:-2])\n",
    "print(\"7. Last character:\", domain_name[-1])\n",
    "print(\"Second to last character:\", domain_name[-2])"
   ]
  }
 ],
 "metadata": {
  "kernelspec": {
   "display_name": "Python 3",
   "language": "python",
   "name": "python3"
  },
  "language_info": {
   "codemirror_mode": {
    "name": "ipython",
    "version": 3
   },
   "file_extension": ".py",
   "mimetype": "text/x-python",
   "name": "python",
   "nbconvert_exporter": "python",
   "pygments_lexer": "ipython3",
   "version": "3.7.9"
  },
  "orig_nbformat": 4
 },
 "nbformat": 4,
 "nbformat_minor": 2
}
